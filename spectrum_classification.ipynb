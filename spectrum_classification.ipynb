{
 "cells": [
  {
   "cell_type": "code",
   "execution_count": 1,
   "id": "0f57572d-04c2-4a55-8c9e-2303633106e2",
   "metadata": {},
   "outputs": [],
   "source": [
    "import os\n",
    "import numpy as np\n",
    "import matplotlib.pyplot as plt\n",
    "import seaborn as sns\n",
    "import pandas as pd\n",
    "\n",
    "from scipy.signal import argrelextrema\n",
    "from scipy import interpolate"
   ]
  },
  {
   "cell_type": "markdown",
   "id": "492de054-b698-4265-961b-ae737f82e00b",
   "metadata": {
    "tags": []
   },
   "source": [
    "# Подготовительный блок"
   ]
  },
  {
   "cell_type": "markdown",
   "id": "b20e8e6f",
   "metadata": {},
   "source": [
    "## Коррекция базовой линии"
   ]
  },
  {
   "cell_type": "code",
   "execution_count": 2,
   "id": "49d739e9",
   "metadata": {},
   "outputs": [],
   "source": [
    "from scipy import sparse\n",
    "from scipy.sparse.linalg import spsolve\n",
    "\n",
    "\n",
    "def baseline_als_optimized(y, lam, p, niter=10):\n",
    "    L = len(y)\n",
    "    D = sparse.diags([1,-2,1],[0,-1,-2], shape=(L,L-2))\n",
    "    D = lam * D.dot(D.transpose()) \n",
    "    w = np.ones(L)\n",
    "    W = sparse.spdiags(w, 0, L, L)\n",
    "    for i in range(niter):\n",
    "        W.setdiag(w) \n",
    "        Z = W + D\n",
    "        z = spsolve(Z, w*y)\n",
    "        w = p * (y > z) + (1-p) * (y < z)\n",
    "    return z\n",
    "\n",
    "def baseline_corr(y):\n",
    "    y_corr = np.zeros(len(y))\n",
    "    y_corr[:429] = baseline_als_optimized(-y[:429] + 1, 10000, 0.01)\n",
    "    y_corr[747:] = baseline_als_optimized(-y[747:] + 1, 10000, 0.01)\n",
    "    \n",
    "    y_res = -y + 1 - y_corr\n",
    "    y_out = 1 - y_res\n",
    "    y_out[np.argwhere(y_out > 1)] = 1\n",
    "\n",
    "    \n",
    "    return y_out\n",
    "    "
   ]
  },
  {
   "cell_type": "markdown",
   "id": "f229cf6c-ac08-4641-b1cc-f965ee72b88d",
   "metadata": {
    "tags": []
   },
   "source": [
    "## Нормализация с помощью алгоритма SNV (Standard Normal Variate)"
   ]
  },
  {
   "cell_type": "code",
   "execution_count": 3,
   "id": "884e37ef-5d10-4504-8bfb-f4ca1b281612",
   "metadata": {},
   "outputs": [],
   "source": [
    "def SNV_Normalize(input_data):\n",
    "    mean = np.mean(input_data, axis = 0)\n",
    "    std = np.std(input_data, axis = 0)\n",
    "    \n",
    "    output_data = (input_data - mean)/std\n",
    "    \n",
    "    return output_data\n",
    "\n",
    "def FullSNVNormalize(vector):\n",
    "        result = []\n",
    "        for spec in vector:\n",
    "            result.append(SNV_Normalize(spec))\n",
    "        \n",
    "        return np.array(result)"
   ]
  },
  {
   "cell_type": "markdown",
   "id": "6c8ee49c-8aeb-4fd1-9ce6-1145a8c5bdee",
   "metadata": {
    "tags": []
   },
   "source": [
    "## Класс Пациента"
   ]
  },
  {
   "cell_type": "code",
   "execution_count": 4,
   "id": "a5526dc6",
   "metadata": {},
   "outputs": [],
   "source": [
    "class Patient:\n",
    "    def __init__(self, surname = '', health_class = None, old = None):\n",
    "        self.surname_ = surname\n",
    "        self.old_ = old\n",
    "        self.health_class_ = health_class\n",
    "        \n",
    "        self.x_ = None\n",
    "        self.backs_ = []\n",
    "        self.signals_ = []\n",
    "        \n",
    "        self.normed_ = None\n",
    "        self.SNVnormed_ = None\n",
    "        \n",
    "    def __str__(self):\n",
    "        return f'{self.surname_} / health_class = {self.health_class_}'\n",
    "    def __repr__(self):\n",
    "        return self.__str__()\n",
    "    \n",
    "    def FullSNVNormalize(self, vector):\n",
    "        result = []\n",
    "        for spec in vector:\n",
    "            result.append(SNV_Normalize(spec))\n",
    "        \n",
    "        return np.array(result)\n",
    "    \n",
    "    def DoNormed(self):\n",
    "        self.normed_ = ((np.sum(self.signals_, axis = 0)/len(self.signals_))\n",
    "                        / (np.sum(self.backs_, axis = 0)/len(self.backs_)))\n",
    "        \n",
    "        self.SNVnormed_ = SNV_Normalize(self.normed_)\n",
    "    \n",
    "    def AddSpectralData(self, x, signals, backgrounds):\n",
    "        self.x_ = x\n",
    "        self.signals_ = signals\n",
    "        self.backs_ = backgrounds\n",
    "        self.DoNormed()\n",
    "    \n",
    "    def AddSignal(self, signal):\n",
    "        self.signals_.append(signal)\n",
    "                \n",
    "    def AddBackground(self, background):\n",
    "        self.backs_.append(background)\n",
    "        \n",
    "    def GetNormedSpectrum(self):\n",
    "        return self.x_, self.normed_\n",
    "    \n",
    "    def GetSNVNormedSpectrum(self):\n",
    "        return self.x_, self.SNVnormed_\n",
    "    \n",
    "    def GetHealthClass(self):\n",
    "        return self.health_class_\n",
    "    \n",
    "    def GetOverNormed(self):\n",
    "        \n",
    "        i = self.signals_[0]\n",
    "        b = self.backs_[0]\n",
    "        x = self.x_\n",
    "\n",
    "        diff = b - (i - np.mean(i))\n",
    "        \n",
    "        ind = argrelextrema(diff, np.less, order = 1)[0]\n",
    "        new_arr = np.concatenate( ([0], ind ) )\n",
    "        new_arr = np.concatenate( (new_arr, [960] ) )\n",
    "        f = interpolate.interp1d(x[new_arr], diff[new_arr])\n",
    "        #print(f(x))\n",
    "        res = f(x)\n",
    "        res[428:747] = diff[428:747]\n",
    "        \n",
    "        new_i = res + (i - np.mean(i))\n",
    "        \n",
    "        return x, new_i / b"
   ]
  },
  {
   "cell_type": "markdown",
   "id": "ed126373-bf0d-4c68-afa3-1e39a454e0fb",
   "metadata": {
    "tags": []
   },
   "source": [
    "## Функции чтения из директории, чтения спектров и добавления пациентов в список"
   ]
  },
  {
   "cell_type": "code",
   "execution_count": 5,
   "id": "0d35bf7f-7175-4ac0-9845-671afd1934da",
   "metadata": {},
   "outputs": [],
   "source": [
    "import json\n",
    "def spec_read(filename):\n",
    "    with open(filename) as f:\n",
    "        res = f.read()\n",
    "        dec = json.loads(res)\n",
    "    I = np.array(dec[2]['I'])\n",
    "    I[490:809] = 1\n",
    "    I = I[62:]\n",
    "    x = np.array(dec[2]['x'])[62:]\n",
    "\n",
    "    return x, I\n",
    "    "
   ]
  },
  {
   "cell_type": "code",
   "execution_count": 6,
   "id": "4ae4ba7d-a142-4a45-8da2-c560cdb9b431",
   "metadata": {},
   "outputs": [],
   "source": [
    "def add_patient(directory, patient_name, number_of_ill , patients_vector):\n",
    "    backgrounds = []\n",
    "    signals = []\n",
    "    x = []\n",
    "    \n",
    "    patient = Patient(patient_name, health_class = number_of_ill)\n",
    "    \n",
    "    specs = os.listdir(directory)\n",
    "    for spec in specs:\n",
    "        try:\n",
    "            name_list = spec.split('_')\n",
    "            if(name_list[0] == 'background'):\n",
    "                x_back, I_back = spec_read(f'{directory}/{spec}')\n",
    "                backgrounds.append(I_back)\n",
    "            if(name_list[0] == 'signal'):\n",
    "                x_sig, I_sig = spec_read(f'{directory}/{spec}')\n",
    "                x = x_sig\n",
    "                signals.append(I_sig)\n",
    "        except:\n",
    "            print('Check Error in files')\n",
    "       \n",
    "    signals = np.array(signals)\n",
    "    backgrounds = np.array(backgrounds)\n",
    "    \n",
    "    patient.AddSpectralData(x, signals, backgrounds)\n",
    "    \n",
    "    patients_vector.append(patient)"
   ]
  },
  {
   "cell_type": "code",
   "execution_count": 7,
   "id": "f99a4421-d91b-47d8-9950-1027ac39d73e",
   "metadata": {},
   "outputs": [],
   "source": [
    "# Фукция вычитывающая словарь: пробегаем по папкам дат, внутри название папки(surname_(class_number)) - ключ,\n",
    "# усредненный спектр - значение\n",
    "def dir_reader(directory, class_number):\n",
    "    dict_patients = []\n",
    "    \n",
    "    dates = os.listdir(directory)\n",
    "    for date in dates:\n",
    "        try:\n",
    "            patients = os.listdir(f'{directory}/{date}')\n",
    "            for patient in patients:\n",
    "                patient_dir = f'{directory}/{date}/{patient}'\n",
    "                add_patient(patient_dir, patient, class_number, dict_patients)\n",
    "                print(f\"Patient: {patient_dir}\")\n",
    "        except Exception as err:\n",
    "            print(f\"Error: {err}\")\n",
    "            print(f\"Dir: {date}\")\n",
    "    return dict_patients"
   ]
  },
  {
   "cell_type": "markdown",
   "id": "950716fa-8b79-48bd-8c17-73062702fd3f",
   "metadata": {
    "tags": []
   },
   "source": [
    "# Блок обработки полученных данных"
   ]
  },
  {
   "cell_type": "markdown",
   "id": "62460ad9-28b8-47aa-85af-fa6d4834bfc8",
   "metadata": {
    "tags": []
   },
   "source": [
    "## Считывание данных. Ydata - метки, Xdata - спектры "
   ]
  },
  {
   "cell_type": "code",
   "execution_count": 8,
   "id": "d1b63ebb-66f0-4758-bcc8-5145e64e3384",
   "metadata": {},
   "outputs": [
    {
     "name": "stdout",
     "output_type": "stream",
     "text": [
      "Patient: Healthy/05.10.2021/Ignatova-16-Z_05_10_2021\n",
      "Patient: Healthy/05.10.2021/Pokrovskiy-16-Z_05_10_2021\n",
      "Patient: Healthy/05.10.2021/Titov-12-Z_05_10_2021\n",
      "Patient: Healthy/05.10.2021/Varvarskay-14-Z_05_10_2021\n",
      "Patient: Healthy/05.10.2021/Svintitskiy-13-Z_05_10_2021\n",
      "Patient: Healthy/05.10.2021/Trubinina-14-Z_05_10_2021\n",
      "Patient: Healthy/05.10.2021/Rudenko-15-Z_05_10_2021\n",
      "Patient: Healthy/05.10.2021/Yozhikov-8-Z_05_10_2021\n",
      "Patient: Healthy/15.10.2021/Golubev-15-Z_15_10_2021\n",
      "Patient: Healthy/15.10.2021/Patenevskay-14-Z_15_10_2021\n",
      "Patient: Healthy/15.10.2021/Suhorukov-12-Z_15_10_2021\n",
      "Patient: Healthy/15.10.2021/Shchurin-15-Z_15_10_2021\n",
      "Patient: Healthy/15.10.2021/Gorbunov-15-Z_15_10_2021\n",
      "Patient: Healthy/15.10.2021/Ipatov-14-Z_15_10_2021\n",
      "Patient: Healthy/15.10.2021/Lesnikova-14-Z_15_10_2021\n",
      "Patient: Healthy/15.10.2021/Kuznetsova-15-Z_15_10_2021\n",
      "Patient: Healthy/14.10.2021/Bliznecov-13-Z_14_10_2021\n",
      "Patient: Healthy/14.10.2021/Kirilin-13-Z_14_10_2021\n",
      "Patient: Healthy/14.10.2021/Mayaseev-14-Z_14_10_2021\n",
      "Patient: Healthy/14.10.2021/Shishnov-13-Z_14_10_2021\n",
      "Patient: Healthy/14.10.2021/Hohlov-14-Z_14_10_2021\n",
      "Patient: Healthy/14.10.2021/Nikonorov-14-Z_14_10_2021\n",
      "Patient: Healthy/14.10.2021/Revunov-14-Z_14_10_2021\n",
      "Patient: Healthy/14.10.2021/Jifarov-14-Z_14_10_2021\n",
      "Patient: Healthy/06.10.2021/Vovdenko-19-Z_06_10_2021\n",
      "Patient: Healthy/06.10.2021/Gricaeva-18-Z_06_10_2021\n",
      "Patient: Healthy/06.10.2021/Smirnov-18-Z_06_10_2021\n",
      "Patient: Healthy/06.10.2021/Ustimenko-18-Z_06_10_2021\n",
      "Patient: Healthy/06.10.2021/Sokolova-19-Z_06_10_2021\n",
      "Patient: Healthy/06.10.2021/Gilka-19-Z_06_10_2021\n",
      "Patient: Healthy/07.10.2021/Hodoreva-12-Z_07_10_2021\n",
      "Patient: Healthy/07.10.2021/Kudraivceva-9-Z_07_10_2021\n",
      "Patient: Healthy/07.10.2021/Iliunin-15-Z_07_10_2021\n",
      "Patient: Healthy/07.10.2021/Shmakov-16-Z_07_10_2021\n",
      "Patient: Healthy/07.10.2021/Bazhin-12-Z_07_10_2021\n",
      "Patient: Healthy/07.10.2021/Hilliuvchic-15-Z_07_10_2021\n",
      "Patient: Healthy/07.10.2021/Gaidiuk-12-Z_07_10_2021\n",
      "Patient: Healthy/07.10.2021/Nazarova-15-Z_07_10_2021\n",
      "Patient: Healthy/21.10.2021/Savina-13-Z_21_10_2021\n",
      "Patient: Healthy/21.10.2021/Simenkov-15-Z_21_10_2021\n",
      "Patient: Healthy/01.10.2021/Filippov-18-Z_01_10_2021\n",
      "Patient: Healthy/01.10.2021/Maslinov-18-Z_01_10_2021\n",
      "Patient: Healthy/01.10.2021/Osipenkov-19-Z_01_10_2021\n",
      "Patient: Healthy/01.10.2021/Kaluckiy-18-Z_01_10_2021\n",
      "Patient: Healthy/01.10.2021/Duchinskiy-18-Z_01_10_2021\n",
      "Patient: Healthy/01.10.2021/Lomovackiy-21-Z_01_10_2021\n",
      "Patient: Healthy/01.10.2021/Larin-18-Z_01_10_2021\n",
      "Patient: Healthy/01.10.2021/Marin-18-Z_01_10_2021\n",
      "Patient: Healthy/11.10.2021/Tkachenko-9-Z_11_10_2021\n",
      "Patient: Healthy/11.10.2021/Musatova-14-Z_11_10_2021\n",
      "Patient: Healthy/11.10.2021/Burkova-13-Z_11_10_2021\n",
      "Patient: Healthy/11.10.2021/Pavlenko-14-Z_11_10_2021\n",
      "Patient: Healthy/11.10.2021/Shchyozhina-12-Z_11_10_2021\n",
      "Patient: Healthy/11.10.2021/Potatueva-10-Z_11_10_2021\n",
      "Patient: Healthy/11.10.2021/Daygtereyva-14-Z_11_10_2021\n",
      "Patient: Healthy/11.10.2021/Lonskay-14-Z_11_10_2021\n",
      "Patient: Sick/Diabet/27.08.2021/Borisova-16-D1_27_08_2021\n",
      "Patient: Sick/Diabet/27.08.2021/Molchanova-14-D1_27_08_2021\n",
      "Patient: Sick/Diabet/27.08.2021/Carev-16-D1_1_27_08_2021\n",
      "Patient: Sick/Diabet/27.08.2021/Viorov-15-D1_27_08_2021\n",
      "Patient: Sick/Diabet/09.09.2021/Baladuncki-17-D1_09_09_2021\n",
      "Patient: Sick/Diabet/09.09.2021/Boiko-15-D1_09_09_2021\n",
      "Patient: Sick/Diabet/09.09.2021/Sveridov-13-D1_09_09_2021\n",
      "Patient: Sick/Diabet/09.09.2021/Sapozhnikova-13-D1_09_09_2021\n",
      "Patient: Sick/Diabet/18.08.2021/Afanasev-17-D1_18_08_2021\n",
      "Patient: Sick/Diabet/18.08.2021/Landina-11-D1_18_08_2021\n",
      "Patient: Sick/Diabet/18.08.2021/Bahmudova-15-D1_18_08_2021\n",
      "Patient: Sick/Diabet/18.08.2021/Nersesayn-14-D1_18_08_2021\n",
      "Patient: Sick/Diabet/10.09.2021/Baladuncki-17-D1_10_09_2021\n",
      "Patient: Sick/Diabet/10.09.2021/Zhelyabov-13-D1_10_09_2021\n",
      "Patient: Sick/Diabet/10.09.2021/Laypin-12-D1_10_09_2021\n",
      "Patient: Sick/Diabet/10.09.2021/Sharkova-14-D1_10_09_2021\n",
      "Patient: Sick/Diabet/11.08.2021/Sharifova-17-D1_11_08_2021\n",
      "Patient: Sick/Diabet/11.08.2021/Akopen-17-D1_11_08_2021\n",
      "Patient: Sick/Diabet/11.08.2021/Turetskova-14-D1_11_08_2021\n",
      "Patient: Sick/Diabet/11.08.2021/Perov-17-D1_11_08_2021\n",
      "Patient: Sick/Diabet/11.08.2021/Dvoretskiy-16-D1_11_08_2021\n",
      "Patient: Sick/Diabet/01.09.2021/Blohina-13-D1_01_09_2021\n",
      "Patient: Sick/Diabet/01.09.2021/Shakaev-15-D1_01_09_2021\n",
      "Patient: Sick/Diabet/01.09.2021/Ladutko-14-D1_01_09_2021\n",
      "Patient: Sick/Diabet/19.08.2021/Govrilov-12-D1_19_08_2021\n",
      "Patient: Sick/Diabet/19.08.2021/Basirova-16-D1_19_08_2021\n",
      "Patient: Sick/Diabet/19.08.2021/Zubareva-16-D1_19_08_2021\n",
      "Patient: Sick/Diabet/20.10.2021/Kotov-17-D1_20_10_2021\n",
      "Patient: Sick/Diabet/20.10.2021/Titova-13-D1_20_10_2021\n",
      "Patient: Sick/Diabet/20.10.2021/Podovinnikov-15-D1_20_10_2021\n",
      "Patient: Sick/Diabet/20.10.2021/Osipova-12-D1_20_10_2021\n",
      "Patient: Sick/Diabet/20.10.2021/Zakuskina-15-D1_20_10_2021\n",
      "Patient: Sick/Diabet/12.08.2021/Orehov-14-D1_12_08_2021\n",
      "Patient: Sick/Diabet/12.08.2021/Kulikov-9-D1_12_08_2021\n",
      "Patient: Sick/Diabet/12.08.2021/Vinohodov-17-D1_12_08_2021\n",
      "Patient: Sick/Diabet/12.08.2021/Lapdina-11-D1_12_08_2021\n",
      "Patient: Sick/Diabet/12.08.2021/Tutov-12-D1_12_08_2021\n",
      "Patient: Sick/Diabet/24.08.2021/Klueva-15-D1_24_08_2021\n",
      "Patient: Sick/Diabet/24.08.2021/Larin-13-D1_24_08_2021\n",
      "Patient: Sick/Diabet/24.08.2021/Borisova-16-D1_24_08_2021\n",
      "Patient: Sick/Diabet/24.08.2021/Shilova-16-D1_24_08_2021\n",
      "Patient: Sick/Diabet/02.09.2021/Muslinov-17-D1_02_09_2021\n",
      "Patient: Sick/Diabet/02.09.2021/Ladutko-14-D1_02_09_2021\n",
      "Patient: Sick/Diabet/02.09.2021/Mihailov-11-D1_02_09_2021\n",
      "Patient: Sick/Diabet/02.09.2021/Blohina-13-D1_02_09_2021\n",
      "Patient: Sick/Diabet/03.08.2021/Muslinov-17-D1_03_09_2021\n",
      "Patient: Sick/Diabet/03.08.2021/Blohina-13-D1_03_09_2021\n",
      "Patient: Sick/Diabet/03.08.2021/Mihailov-11-D1_03_09_2021\n",
      "Patient: Sick/Diabet/03.08.2021/Ladutko-14-D1_03_09_2021\n",
      "Patient: Sick/Diabet/17.09.2021/Bezditko-17-D1_17_09_2021\n",
      "Patient: Sick/Diabet/17.09.2021/Korniychuk-6-D1_17_09_2021\n",
      "Patient: Sick/Diabet/31.08.2021/Sharganova-17-D1_31_08_2021\n",
      "Patient: Sick/Diabet/31.08.2021/Ladutko-14-D1_31_08_2021\n",
      "Patient: Sick/Diabet/17.08.2021/Latinovich-16-D1_17_08_2021\n",
      "Patient: Sick/Diabet/17.08.2021/Prokofiev-17-D1_17_08_2021\n",
      "Patient: Sick/Diabet/17.08.2021/Firyulina-17-D1_17_08_2021\n",
      "Patient: Sick/Diabet/29_07_2021/Volkov-16-D1_29_07_2021\n",
      "Patient: Sick/Diabet/29_07_2021/Frolova-16-D1_29_07_2021\n",
      "Patient: Sick/Diabet/29_07_2021/Skvorcova-13-D1_29_07_2021\n",
      "Patient: Sick/Diabet/29_07_2021/Кravchuk-17-D1_29_07_2021\n",
      "Patient: Sick/Diabet/29_07_2021/Schirokov-16-D1_29_07_2021\n",
      "Patient: Sick/Diabet/14.09.2021/Kolyadinov-12-D1_14_09_2021\n",
      "Patient: Sick/Diabet/14.09.2021/Laypin-12-D1_14_09_2021\n",
      "Patient: Sick/Diabet/14.09.2021/Ostapenko-10-D1_14_09_2021\n",
      "Patient: Sick/Diabet/14.09.2021/Kazeykin-14-D1_14_09_2021\n",
      "Patient: Sick/Diabet/14.09.2021/Flerinsky-12-D1_14_09_2021\n",
      "Patient: Sick/Diabet/15.09.2021/Bezditko-17-D1_14_09_2021\n",
      "Patient: Sick/Diabet/15.09.2021/Afinskiy-17-D1_14_09_2021\n",
      "Patient: Sick/Diabet/15.09.2021/Moreeva-17-D1_14_09_2021\n",
      "Patient: Sick/Diabet/15.09.2021/Elmurzaev-14-D1_14_09_2021\n",
      "Patient: Sick/Astma/30.08.2022/Asmolov\n",
      "Patient: Sick/Astma/30.08.2022/Mitrokhin\n",
      "Patient: Sick/Astma/10_08_2022/Asunin\n",
      "Patient: Sick/Astma/10_08_2022/Jakupov azot\n",
      "Patient: Sick/Astma/10_08_2022/Mishustina\n",
      "Patient: Sick/Astma/17.08.2022/Ugorenkov\n",
      "Patient: Sick/Astma/17.08.2022/Taushkanov\n",
      "Patient: Sick/Astma/23.08.2022/Gromiko\n",
      "Patient: Sick/Astma/12_08_2022/Aupov\n",
      "Patient: Sick/Astma/12_08_2022/Tihonov\n",
      "Patient: Sick/Astma/10.09.2022/Voronin\n",
      "Patient: Sick/Astma/10.09.2022/Zlobin\n",
      "Patient: Sick/Astma/10.09.2022/Murashko\n",
      "Patient: Sick/Astma/16_08_2022/Lipochkin\n",
      "Patient: Sick/Astma/19.08.2022/Legoshin\n",
      "Patient: Sick/Astma/19.08.2022/Roldutin\n",
      "Patient: Sick/Astma/08.09.2022/Zaharova\n",
      "Patient: Sick/Astma/08.09.2022/Smirnova\n",
      "Patient: Sick/Astma/08.09.2022/Curkanu\n",
      "Patient: Sick/Astma/13.09.2022/Chernisheva\n",
      "Patient: Sick/Astma/13.09.2022/Tjagnii\n",
      "Patient: Sick/Astma/13.09.2022/Myrashko\n",
      "Patient: Sick/Astma/13.09.2022/Panchenko\n",
      "Patient: Sick/Astma/29.07.2022/Elovskii\n",
      "Patient: Sick/Astma/29.07.2022/Fillipov\n",
      "Patient: Sick/Astma/29.07.2022/Hlivnoi\n",
      "Patient: Sick/Astma/29.07.2022/Bakanin\n",
      "Patient: Sick/Astma/29.07.2022/Zavgorodnaja\n",
      "Patient: Sick/Astma/25.08.2022/Mendovskiy\n",
      "Patient: Sick/Astma/25.08.2022/Turkina\n"
     ]
    },
    {
     "name": "stdout",
     "output_type": "stream",
     "text": [
      "Patient: Sick/Astma/25.08.2022/Krasnova\n",
      "Patient: Sick/Astma/20.07.2022/Virskiy-16-AB_20_07_2022\n",
      "Patient: Sick/Astma/20.07.2022/Dalgatov-13-AP_20_07_2022\n",
      "Patient: Sick/Pneumonia/29.09.2022/Ananskih_1\n",
      "Patient: Sick/Pneumonia/29.09.2022/Lavrin_1\n",
      "Patient: Sick/Pneumonia/01.10.2022/Ananskih_3\n",
      "Patient: Sick/Pneumonia/01.10.2022/Lavrin_3\n",
      "Patient: Sick/Pneumonia/05.10.2022/Topilin_2\n",
      "Patient: Sick/Pneumonia/05.10.2022/Mailayn_2\n",
      "Patient: Sick/Pneumonia/04.10.2022/Lavrin_6\n",
      "Patient: Sick/Pneumonia/04.10.2022/Topilin_1\n",
      "Patient: Sick/Pneumonia/04.10.2022/Mailayn_1\n",
      "Patient: Sick/Pneumonia/06.10.2022/Holekova_1\n",
      "Patient: Sick/Pneumonia/06.10.2022/Topilin_3\n",
      "Patient: Sick/Pneumonia/06.10.2022/Mailayn_3\n"
     ]
    }
   ],
   "source": [
    "healthy_vector = dir_reader('Healthy', 0)\n",
    "diabet_vector = dir_reader('Sick/Diabet', 1)\n",
    "astma_vector = dir_reader('Sick/Astma', 2)\n",
    "pneumonia_vector = dir_reader('Sick/Pneumonia', 3)\n",
    "\n",
    "all_vector = healthy_vector + diabet_vector + astma_vector + pneumonia_vector\n"
   ]
  },
  {
   "cell_type": "code",
   "execution_count": 9,
   "id": "c60dadec-9a17-4eaf-a2ea-6c2dfd739e23",
   "metadata": {},
   "outputs": [
    {
     "name": "stdout",
     "output_type": "stream",
     "text": [
      "(171, 961) (171,)\n"
     ]
    }
   ],
   "source": [
    "Ydata = []\n",
    "Xdata = []\n",
    "\n",
    "for patient in all_vector:\n",
    "    x, y = patient.GetNormedSpectrum()\n",
    "    Xdata.append(baseline_corr(y))\n",
    "    Ydata.append(patient.GetHealthClass())\n",
    "    \n",
    "Ydata = np.array(Ydata)\n",
    "Xdata = np.array(Xdata)\n",
    "\n",
    "print(Xdata.shape, Ydata.shape)"
   ]
  },
  {
   "cell_type": "markdown",
   "id": "d6c609b3",
   "metadata": {},
   "source": [
    "## Кластеризация и понижение размерности методоми LDA и PCA"
   ]
  },
  {
   "cell_type": "code",
   "execution_count": 10,
   "id": "3548f309",
   "metadata": {},
   "outputs": [
    {
     "name": "stdout",
     "output_type": "stream",
     "text": [
      "Дисперсия 95 проц при n 12\n"
     ]
    }
   ],
   "source": [
    "from sklearn import datasets\n",
    "from sklearn.decomposition import PCA\n",
    "from sklearn.discriminant_analysis import LinearDiscriminantAnalysis\n",
    "\n",
    "pca = PCA(n_components=20)\n",
    "X_r = pca.fit(Xdata).transform(Xdata)\n",
    "lda = LinearDiscriminantAnalysis(n_components=3) \n",
    "X_r2 = lda.fit(Xdata, Ydata).transform(Xdata)\n",
    "\n",
    "\n",
    "print('Дисперсия 95 проц при n', len(list(filter(lambda x: x < 0.95, pca.explained_variance_ratio_.cumsum()))))"
   ]
  },
  {
   "cell_type": "code",
   "execution_count": 17,
   "id": "3e93e5d3",
   "metadata": {},
   "outputs": [
    {
     "name": "stdout",
     "output_type": "stream",
     "text": [
      "explained variance ratio for LDA : [0.79897161 0.12109718 0.07993121]\n",
      "explained variance ratio for PCA : [0.40887178 0.1741361  0.1222075  0.06518946 0.0431118  0.03473505\n",
      " 0.03008999 0.02068237 0.01446825 0.0118735  0.00988409 0.00779121\n",
      " 0.00709749]\n",
      "0.9501385890585456\n"
     ]
    }
   ],
   "source": [
    "pca = PCA(n_components=13)\n",
    "X_r = pca.fit(Xdata).transform(Xdata)\n",
    "\n",
    "lda = LinearDiscriminantAnalysis(n_components=3) \n",
    "X_r2 = lda.fit(Xdata, Ydata).transform(Xdata)\n",
    "\n",
    "#Объяснение процентной дисперсии для каждого компонента\n",
    "print('explained variance ratio for LDA : %s'\n",
    "      % str(lda.explained_variance_ratio_))\n",
    "print('explained variance ratio for PCA : %s'\n",
    "      % str(pca.explained_variance_ratio_))\n",
    "print(pca.explained_variance_ratio_.cumsum()[12])\n",
    "pca_expl_var=pca.explained_variance_ratio_\n",
    "lda_expl_var=lda.explained_variance_ratio_"
   ]
  },
  {
   "cell_type": "code",
   "execution_count": 18,
   "id": "d3926c95",
   "metadata": {},
   "outputs": [
    {
     "data": {
      "image/png": "[encoded data removed]",
      "text/plain": [
       "<Figure size 640x480 with 1 Axes>"
      ]
     },
     "metadata": {},
     "output_type": "display_data"
    }
   ],
   "source": [
    "plt.figure()\n",
    "colors = ['navy', 'turquoise', 'darkorange','violet']\n",
    "lw = 3\n",
    "target_names = [\"Здоровые\", \"Диабет\", \"Астма\", \"Пневмония\"]\n",
    "\n",
    "for color, i, target_name in zip(colors, [0, 1, 2, 3], target_names):\n",
    "    plt.scatter(X_r2[Ydata == i, 0], X_r2[Ydata == i, 1], alpha=.8, color=color,\n",
    "                label=target_name)\n",
    "plt.legend(loc='best', shadow=False, scatterpoints=1)\n",
    "plt.title('Метод LDA для болезней')\n",
    "plt.xlabel(f'LDA1 ({round(lda_expl_var[0], 2)})')\n",
    "plt.ylabel(f'LDA2 ({round(lda_expl_var[1], 2)})')\n",
    "plt.grid()\n",
    "plt.savefig('lda.png')\n",
    "plt.show()"
   ]
  },
  {
   "cell_type": "code",
   "execution_count": 19,
   "id": "52671417",
   "metadata": {},
   "outputs": [
    {
     "data": {
      "image/png": "[encoded data removed]",
      "text/plain": [
       "<Figure size 640x480 with 1 Axes>"
      ]
     },
     "metadata": {},
     "output_type": "display_data"
    }
   ],
   "source": [
    "plt.figure()\n",
    "colors = ['navy', 'turquoise', 'darkorange','violet']\n",
    "lw = 2\n",
    "target_names = [\"Здоровые\", \"Диабет\", \"Астма\", \"Пневмония\"]\n",
    "\n",
    "for color, i, target_name in zip(colors, [0, 1, 2, 3], target_names):\n",
    "    plt.scatter(X_r[Ydata == i, 0], X_r[Ydata == i, 1], alpha=.8, color=color,\n",
    "                label=target_name)\n",
    "plt.legend(loc='best', shadow=False, scatterpoints=1)\n",
    "plt.title('Метод PCA для болезней')\n",
    "plt.xlabel(f'PCA1 ({round(pca_expl_var[0], 2)})')\n",
    "plt.ylabel(f'PCA2 ({round(pca_expl_var[1], 2)})')\n",
    "plt.grid()\n",
    "\n",
    "plt.show()"
   ]
  },
  {
   "cell_type": "markdown",
   "id": "719de5e8-d6eb-41fa-a11d-3f4893868a97",
   "metadata": {
    "tags": []
   },
   "source": [
    "## Кластеризация и понижение размерности методом t-SNE"
   ]
  },
  {
   "cell_type": "code",
   "execution_count": null,
   "id": "2dbc7fc5-649d-4067-8982-13d4050f6e75",
   "metadata": {},
   "outputs": [],
   "source": [
    "from sklearn.manifold import TSNE\n",
    "\n",
    "tsne = TSNE(n_components=2)\n",
    "tsne_result = tsne.fit_transform(Xdata)\n",
    "\n",
    "plt.figure()\n",
    "colors = ['navy', 'turquoise', 'darkorange','violet']\n",
    "lw = 2\n",
    "target_names = [\"Здоровые\", \"Диабет\", \"Астма\", \"Пневмония\"]\n",
    "\n",
    "for color, i, target_name in zip(colors, [0, 1, 2, 3], target_names):\n",
    "    plt.scatter(tsne_result[Ydata == i, 0], tsne_result[Ydata == i, 1], alpha=.8, color=color,\n",
    "                label=target_name)\n",
    "plt.legend(loc='best', shadow=False, scatterpoints=1)\n",
    "plt.title('Метод t-SNE для болезней')\n",
    "plt.xlabel(f'Dimension 1')\n",
    "plt.ylabel(f'Dimension 2')\n",
    "plt.grid()\n",
    "\n",
    "plt.show()"
   ]
  },
  {
   "cell_type": "markdown",
   "id": "c322eded-830e-47df-87a8-66354ca2b8c9",
   "metadata": {
    "tags": []
   },
   "source": [
    " ## Классификация методом SVM"
   ]
  },
  {
   "cell_type": "code",
   "execution_count": null,
   "id": "890ca6f5-c581-4660-8005-ccf0989c1639",
   "metadata": {},
   "outputs": [],
   "source": [
    "from sklearn.model_selection import train_test_split\n",
    "\n",
    "X_train, X_test, y_train, y_test = train_test_split(X_r, Ydata, test_size=0.20, random_state=42)\n",
    "\n",
    "print(Xdata.shape, X_test.shape, X_train.shape)"
   ]
  },
  {
   "cell_type": "code",
   "execution_count": null,
   "id": "2387cba8-8fb8-4c99-90ea-83ba7844250f",
   "metadata": {},
   "outputs": [],
   "source": [
    "from sklearn import svm\n",
    "from sklearn.model_selection import GridSearchCV\n",
    "\n",
    "param_grid = {'C': [0.1, 1, 10, 100, 1000], \n",
    "              'gamma': [1, 1/4, 0.1, 0.01, 0.001, 0.0001],\n",
    "              'kernel': ['rbf', 'linear']} \n",
    "grid = GridSearchCV(svm.SVC(), param_grid, refit = True, verbose = 1, cv = 2)\n",
    "grid.fit(X_train, y_train)\n",
    "grid_predictions = grid.predict(X_test)"
   ]
  },
  {
   "cell_type": "code",
   "execution_count": null,
   "id": "6900ef7a",
   "metadata": {},
   "outputs": [],
   "source": [
    "#Confusion matrix, sensitivity and specificity\n",
    "from sklearn.metrics import multilabel_confusion_matrix\n",
    "\n",
    "cm = multilabel_confusion_matrix(y_test,grid_predictions)\n",
    "#print('Confusion Matrix : \\n', cm)\n",
    "def conf_metric(cm, i):\n",
    "    TP = cm[i, 1, 1]\n",
    "    TN = cm[i, 0, 0]\n",
    "    FP = cm[i, 0, 1]\n",
    "    FN = cm[i, 1, 0]\n",
    "    specifity = TN / (TN + FP)\n",
    "    precision = TP / (TP + FP)\n",
    "    recall = TP / (TP + FN)\n",
    "    print('For i =', i)\n",
    "    print('Specifity =', round(specifity, 2))\n",
    "    print('Recall =', round(recall,2))\n",
    "    print('precision =', round(precision, 2), '\\n')\n",
    "    return (specifity, precision, recall)\n",
    "\n",
    "i = 0\n",
    "while i <= 3:\n",
    "    conf_metric(cm, i)\n",
    "    i += 1"
   ]
  },
  {
   "cell_type": "markdown",
   "id": "5dc4ea59-8410-4d2d-a05f-0e97b1b7684a",
   "metadata": {},
   "source": [
    "## Классификация методом k-NN"
   ]
  },
  {
   "cell_type": "code",
   "execution_count": null,
   "id": "a42cb2bd-2547-415a-a063-49ac1573909f",
   "metadata": {},
   "outputs": [],
   "source": [
    "from sklearn.model_selection import train_test_split\n",
    "\n",
    "X_train, X_test, y_train, y_test = train_test_split(X_r, Ydata, test_size=0.20, random_state=42)\n",
    "\n",
    "print(Xdata.shape, X_test.shape, X_train.shape)"
   ]
  },
  {
   "cell_type": "code",
   "execution_count": null,
   "id": "c722dd4c-422f-41a5-a76d-9652c2a17b94",
   "metadata": {},
   "outputs": [],
   "source": [
    "from sklearn.neighbors import KNeighborsClassifier\n",
    "from sklearn.model_selection import GridSearchCV\n",
    "\n",
    "param_grid = {\"n_neighbors\": range(10, 50)}\n",
    "grid = GridSearchCV(KNeighborsClassifier(), param_grid, refit = True, verbose = 1, cv = 5)\n",
    "\n",
    "grid.fit(X_train, y_train)"
   ]
  },
  {
   "cell_type": "code",
   "execution_count": null,
   "id": "d0946b6a-491d-44c7-a851-8e932b825625",
   "metadata": {
    "scrolled": true
   },
   "outputs": [],
   "source": [
    "\n",
    "grid_predictions = grid.predict(X_test)\n",
    "from sklearn.metrics import multilabel_confusion_matrix\n",
    "\n",
    "cm = multilabel_confusion_matrix(y_test,grid_predictions)\n",
    "#print('Confusion Matrix : \\n', cm)\n",
    "#print(confusion_matrix(y_test, y_pred))\n",
    "i = 0\n",
    "while i <= 3:\n",
    "    conf_metric(cm, i)\n",
    "    i += 1\n"
   ]
  },
  {
   "cell_type": "markdown",
   "id": "cb73f828",
   "metadata": {},
   "source": [
    "# Случайный лес"
   ]
  },
  {
   "cell_type": "code",
   "execution_count": null,
   "id": "6d55ca2a",
   "metadata": {},
   "outputs": [],
   "source": [
    "from sklearn.model_selection import train_test_split\n",
    "\n",
    "X_train, X_test, y_train, y_test = train_test_split(X_r, Ydata, test_size=0.20, random_state=42, stratify=Ydata)\n",
    "\n",
    "print(Xdata.shape, X_test.shape, X_train.shape)"
   ]
  },
  {
   "cell_type": "code",
   "execution_count": null,
   "id": "c87d4f33",
   "metadata": {},
   "outputs": [],
   "source": [
    "from sklearn.ensemble import RandomForestClassifier\n",
    "from sklearn.model_selection import GridSearchCV\n",
    "\n",
    "param_grid = { 'n_estimators': range (10, 51, 10),\n",
    "              'max_depth': range (1,13, 2),\n",
    "              'min_samples_leaf': range (1,8),\n",
    "              'min_samples_split': range (2,10,2) }\n",
    "\n",
    "grid = GridSearchCV(RandomForestClassifier(), param_grid, refit = True, verbose = 2, cv = 5)\n",
    "\n",
    "grid.fit(X_train, y_train)"
   ]
  },
  {
   "cell_type": "code",
   "execution_count": null,
   "id": "1434dfc3",
   "metadata": {
    "scrolled": true
   },
   "outputs": [],
   "source": [
    "\n",
    "grid_predictions = grid.predict(X_test)\n",
    "from sklearn.metrics import multilabel_confusion_matrix\n",
    "\n",
    "\n",
    "cm = multilabel_confusion_matrix(y_test,grid_predictions)\n",
    "#print('Confusion Matrix : \\n', cm)\n",
    "#print(confusion_matrix(y_test, y_pred))\n",
    "i = 0\n",
    "while i <= 3:\n",
    "    conf_metric(cm, i)\n",
    "    i += 1"
   ]
  },
  {
   "cell_type": "markdown",
   "id": "c70f8d65",
   "metadata": {},
   "source": [
    "## Классификация методом Logistic Regression"
   ]
  },
  {
   "cell_type": "code",
   "execution_count": null,
   "id": "53cf4d03",
   "metadata": {},
   "outputs": [],
   "source": [
    "from sklearn.model_selection import train_test_split\n",
    "\n",
    "X_train, X_test, y_train, y_test = train_test_split(X_r, Ydata, test_size=0.20, random_state=42)\n",
    "\n",
    "print(Xdata.shape, X_test.shape, X_train.shape)"
   ]
  },
  {
   "cell_type": "code",
   "execution_count": null,
   "id": "b65b0649",
   "metadata": {},
   "outputs": [],
   "source": [
    "from sklearn.linear_model import LogisticRegression\n",
    "from sklearn.model_selection import GridSearchCV\n",
    "\n",
    "param_grid = {'C': [0.01, 0.05, 0.1, 0.5, 1, 5, 10]}\n",
    "grid = GridSearchCV(LogisticRegression(),param_grid, refit=True, verbose = 1, cv = 5)\n",
    "\n",
    "grid.fit(X_train, y_train)"
   ]
  },
  {
   "cell_type": "code",
   "execution_count": null,
   "id": "e99d6f5f",
   "metadata": {},
   "outputs": [],
   "source": [
    "from sklearn.metrics import classification_report\n",
    "\n",
    "grid_predictions = grid.predict(X_test)\n",
    "print(classification_report(y_test, grid_predictions))\n",
    "\n",
    "\n",
    "from sklearn.metrics import multilabel_confusion_matrix\n",
    "from sklearn.metrics import confusion_matrix\n",
    "\n",
    "cm = multilabel_confusion_matrix(y_test,grid_predictions)\n",
    "print('Confusion Matrix : \\n', cm)\n",
    "#print(confusion_matrix(y_test, y_pred))\n",
    "i = 0\n",
    "while i <= 3:\n",
    "    conf_metric(cm, i)\n",
    "    i += 1"
   ]
  },
  {
   "cell_type": "code",
   "execution_count": null,
   "id": "b676fde8",
   "metadata": {},
   "outputs": [],
   "source": [
    "#Confusion matrix\n",
    "plt.figure(figsize=(10,6))\n",
    "fx=sns.heatmap(confusion_matrix(y_test,grid_predictions), annot=True,cmap=\"Greys\", fmt=\".2f\")\n",
    "#fx.set_title('Confusion Matrix \\n');\n",
    "fx.set_xlabel('\\n Истинные значения \\n')\n",
    "fx.set_ylabel('Значения классификатора \\n');\n",
    "fx.xaxis.set_ticklabels(['Здоровые','Диабет','Астма', 'Пневмония'])\n",
    "fx.yaxis.set_ticklabels(['Здоровые','Диабет','Астма', 'Пневмония'])\n",
    "plt.show()"
   ]
  },
  {
   "cell_type": "code",
   "execution_count": null,
   "id": "630c5633",
   "metadata": {},
   "outputs": [],
   "source": []
  }
 ],
 "metadata": {
  "kernelspec": {
   "display_name": "Python 3 (ipykernel)",
   "language": "python",
   "name": "python3"
  },
  "language_info": {
   "codemirror_mode": {
    "name": "ipython",
    "version": 3
   },
   "file_extension": ".py",
   "mimetype": "text/x-python",
   "name": "python",
   "nbconvert_exporter": "python",
   "pygments_lexer": "ipython3",
   "version": "3.9.13"
  },
  "vscode": {
   "interpreter": {
    "hash": "afb734500600fd355917ca529030176ea0ca205570884b88f2f6f7d791fd3fbe"
   }
  }
 },
 "nbformat": 4,
 "nbformat_minor": 5
}
